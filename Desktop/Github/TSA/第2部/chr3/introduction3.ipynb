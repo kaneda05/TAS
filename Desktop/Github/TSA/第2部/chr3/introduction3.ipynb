{
 "cells": [
  {
   "cell_type": "markdown",
   "metadata": {},
   "source": [
    "# Pythonによる統計分析の基本3"
   ]
  },
  {
   "cell_type": "code",
   "execution_count": 1,
   "metadata": {},
   "outputs": [],
   "source": [
    "# 数値計算に使うライブラリ\n",
    "import numpy as np\n",
    "import pandas as pd\n",
    "from scipy import stats\n",
    "\n",
    "# 統計モデルを推定するライブラリ\n",
    "import statsmodels.api as sm\n",
    "import statsmodels.formula.api as smf\n",
    "import pmdarima as pm\n",
    "\n",
    "# グラフ描画のライブラリ\n",
    "from matplotlib import pyplot as plt\n",
    "import seaborn as sns\n",
    "sns.set()"
   ]
  },
  {
   "cell_type": "markdown",
   "metadata": {},
   "source": [
    "## 2変量データの分析（数量×数量）"
   ]
  },
  {
   "cell_type": "code",
   "execution_count": 2,
   "metadata": {},
   "outputs": [
    {
     "name": "stdout",
     "output_type": "stream",
     "text": [
      "        x       y\n",
      "0  46.243  36.461\n",
      "1  23.882  20.932\n",
      "2  24.718  19.277\n"
     ]
    }
   ],
   "source": [
    "# データの読み込み\n",
    "df3 = pd.read_csv('sample_data/2-3-3-sample-data-3.csv')\n",
    "print(df3.head(3))"
   ]
  },
  {
   "cell_type": "code",
   "execution_count": 4,
   "metadata": {},
   "outputs": [
    {
     "name": "stdout",
     "output_type": "stream",
     "text": [
      "               x          y\n",
      "count  30.000000  30.000000\n",
      "mean   29.400567  29.133033\n",
      "std    10.263615   9.645102\n",
      "min     6.985000   5.418000\n",
      "25%    22.581750  23.143500\n",
      "50%    27.891000  30.262000\n",
      "75%    37.947500  36.180750\n",
      "max    47.448000  44.831000\n"
     ]
    }
   ],
   "source": [
    "print(df3.describe())"
   ]
  },
  {
   "cell_type": "markdown",
   "metadata": {},
   "source": [
    "### 可視化"
   ]
  },
  {
   "cell_type": "code",
   "execution_count": 5,
   "metadata": {},
   "outputs": [
    {
     "data": {
      "text/plain": [
       "<Axes: xlabel='x', ylabel='y'>"
      ]
     },
     "execution_count": 5,
     "metadata": {},
     "output_type": "execute_result"
    },
    {
     "data": {
      "image/png": "[encoded data removed]",
      "text/plain": [
       "<Figure size 432x288 with 1 Axes>"
      ]
     },
     "metadata": {
      "needs_background": "light"
     },
     "output_type": "display_data"
    }
   ],
   "source": [
    "sns.scatterplot(x='x', y='y', data=df3)"
   ]
  },
  {
   "cell_type": "markdown",
   "metadata": {},
   "source": [
    "### 回帰分析"
   ]
  },
  {
   "cell_type": "code",
   "execution_count": 6,
   "metadata": {},
   "outputs": [
    {
     "name": "stdout",
     "output_type": "stream",
     "text": [
      "                            OLS Regression Results                            \n",
      "==============================================================================\n",
      "Dep. Variable:                      y   R-squared:                       0.526\n",
      "Model:                            OLS   Adj. R-squared:                  0.509\n",
      "Method:                 Least Squares   F-statistic:                     31.02\n",
      "Date:                Sun, 13 Oct 2024   Prob (F-statistic):           5.86e-06\n",
      "Time:                        14:48:03   Log-Likelihood:                -98.868\n",
      "No. Observations:                  30   AIC:                             201.7\n",
      "Df Residuals:                      28   BIC:                             204.5\n",
      "Df Model:                           1                                         \n",
      "Covariance Type:            nonrobust                                         \n",
      "==============================================================================\n",
      "                 coef    std err          t      P>|t|      [0.025      0.975]\n",
      "------------------------------------------------------------------------------\n",
      "Intercept      9.1027      3.802      2.394      0.024       1.314      16.891\n",
      "x              0.6813      0.122      5.570      0.000       0.431       0.932\n",
      "==============================================================================\n",
      "Omnibus:                        2.118   Durbin-Watson:                   1.351\n",
      "Prob(Omnibus):                  0.347   Jarque-Bera (JB):                1.795\n",
      "Skew:                           0.579   Prob(JB):                        0.408\n",
      "Kurtosis:                       2.690   Cond. No.                         95.8\n",
      "==============================================================================\n",
      "\n",
      "Notes:\n",
      "[1] Standard Errors assume that the covariance matrix of the errors is correctly specified.\n"
     ]
    }
   ],
   "source": [
    "# モデルの構築\n",
    "lm_model = smf.ols(formula='y ~ x', data=df3).fit()\n",
    "\n",
    "# 結果の確認\n",
    "print(lm_model.summary())"
   ]
  },
  {
   "cell_type": "markdown",
   "metadata": {},
   "source": [
    "### 分散分析"
   ]
  },
  {
   "cell_type": "code",
   "execution_count": 7,
   "metadata": {},
   "outputs": [
    {
     "name": "stdout",
     "output_type": "stream",
     "text": [
      "            df       sum_sq      mean_sq          F    PR(>F)\n",
      "x          1.0  1417.965482  1417.965482  31.021716  0.000006\n",
      "Residual  28.0  1279.846475    45.708803        NaN       NaN\n"
     ]
    }
   ],
   "source": [
    "print(sm.stats.anova_lm(lm_model))"
   ]
  },
  {
   "cell_type": "markdown",
   "metadata": {},
   "source": [
    "## まとめ"
   ]
  },
  {
   "cell_type": "code",
   "execution_count": 9,
   "metadata": {},
   "outputs": [
    {
     "name": "stdout",
     "output_type": "stream",
     "text": [
      "                            OLS Regression Results                            \n",
      "==============================================================================\n",
      "Dep. Variable:                      y   R-squared:                       0.526\n",
      "Model:                            OLS   Adj. R-squared:                  0.509\n",
      "Method:                 Least Squares   F-statistic:                     31.02\n",
      "Date:                Sun, 13 Oct 2024   Prob (F-statistic):           5.86e-06\n",
      "Time:                        14:49:14   Log-Likelihood:                -98.868\n",
      "No. Observations:                  30   AIC:                             201.7\n",
      "Df Residuals:                      28   BIC:                             204.5\n",
      "Df Model:                           1                                         \n",
      "Covariance Type:            nonrobust                                         \n",
      "==============================================================================\n",
      "                 coef    std err          t      P>|t|      [0.025      0.975]\n",
      "------------------------------------------------------------------------------\n",
      "Intercept      9.1027      3.802      2.394      0.024       1.314      16.891\n",
      "x              0.6813      0.122      5.570      0.000       0.431       0.932\n",
      "==============================================================================\n",
      "Omnibus:                        2.118   Durbin-Watson:                   1.351\n",
      "Prob(Omnibus):                  0.347   Jarque-Bera (JB):                1.795\n",
      "Skew:                           0.579   Prob(JB):                        0.408\n",
      "Kurtosis:                       2.690   Cond. No.                         95.8\n",
      "==============================================================================\n",
      "\n",
      "Notes:\n",
      "[1] Standard Errors assume that the covariance matrix of the errors is correctly specified.\n",
      "            df       sum_sq      mean_sq          F    PR(>F)\n",
      "x          1.0  1417.965482  1417.965482  31.021716  0.000006\n",
      "Residual  28.0  1279.846475    45.708803        NaN       NaN\n"
     ]
    }
   ],
   "source": [
    "df3 = pd.read_csv('sample_data/2-3-3-sample-data-3.csv')\n",
    "lm_model = smf.ols(formula='y ~ x', data=df3).fit()\n",
    "print(lm_model.summary())\n",
    "print(sm.stats.anova_lm(lm_model))"
   ]
  },
  {
   "cell_type": "code",
   "execution_count": null,
   "metadata": {},
   "outputs": [],
   "source": []
  }
 ],
 "metadata": {
  "interpreter": {
   "hash": "a665b5d41d17b532ea9890333293a1b812fa0b73c9c25c950b3cedf1bebd0438"
  },
  "kernelspec": {
   "display_name": "Python 3.9.18 64-bit",
   "name": "python3"
  },
  "language_info": {
   "codemirror_mode": {
    "name": "ipython",
    "version": 3
   },
   "file_extension": ".py",
   "mimetype": "text/x-python",
   "name": "python",
   "nbconvert_exporter": "python",
   "pygments_lexer": "ipython3",
   "version": "3.9.18"
  },
  "orig_nbformat": 4
 },
 "nbformat": 4,
 "nbformat_minor": 2
}
